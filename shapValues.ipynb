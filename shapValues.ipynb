{
 "cells": [
  {
   "cell_type": "code",
   "execution_count": 10,
   "metadata": {},
   "outputs": [
    {
     "data": {
      "text/plain": [
       "\"\\n\\n#8. Shap values (understanding the model)\\n#https://www.youtube.com/watch?v=L8_sVRhBDLU&ab_channel=ADataOdyssey\\nshap.initjs()\\nexplainer = shap.TreeExplainer(rf_Grid.best_estimator_)\\nshap_values = explainer(x_train)\\n#shap_values.to_csv('results/multiclassModel/shapValues/shap_values.csv')\\n##Aggregate shap values bar plots\\nshap0 = np.abs(shap_values.values[:,:,0])\\nshap1 = np.abs(shap_values.values[:,:,1])\\nshap2 = np.abs(shap_values.values[:,:,2])\\n\\nshap0df = pd.DataFrame(data=shap0,\\n             columns=shap_values.feature_names)\\n\\n#20240702 need to repeat the loop for each label and concat the three label dfs\\ndf_dict = {}\\nfor feature in shap_values.feature_names:\\n    print(feature)\\n    shap0df['Operation'] = 'A'\\n    shap0df['Feature'] = 'holi'\\n    df = shap0df[[feature, 'Feature', 'Operation']]\\n    df['Feature'] = feature\\n    df = df.rename(columns={feature:'Shap'})\\n    df_dict[feature] = df\\n\\npd.concat(df_dict.values())\\n\\n#mean plot\\nmean0 = np.mean(shap0, axis=0)\\nmean1 = np.mean(shap1, axis=0)\\nmean2 = np.mean(shap2, axis=0)\\nnp.shape(mean0)\\nshapMeandf = pd.DataFrame({'featureNames': shap_values.feature_names, 'A': mean0, 'C':mean1, 'N':mean2})\\nshapMeandf = shapMeandf.set_index('featureNames').sort_values('N', ascending=False)\\nshapMeandf\\nplt.rcParams.update({'font.size': 16})\\nfig, ax = plt.subplots(1,1,figsize=(12,7))\\nshapMeandf.plot.bar(ax=ax)\\nax.set_ylabel('Abs mean Shap value')\\n\\n\""
      ]
     },
     "execution_count": 10,
     "metadata": {},
     "output_type": "execute_result"
    }
   ],
   "source": [
    "import joblib\n",
    "import shap\n",
    "import pandas as pd\n",
    "import numpy as np\n",
    "#1. Get fitted model\n",
    "MLmodel = joblib.load('results/multiclassModel/fittedModel_multiClass.pkl')\n",
    "\n",
    "type(MLmodel)\n",
    "x_train = pd.read_csv('data/x_train.csv')\n",
    "explainer = shap.TreeExplainer(MLmodel.best_estimator_)\n",
    "shap_values = explainer(x_train) #for categorical response variable there are two sets of shap values (660obs x 7features each). I guess one for each label(?)\n",
    "\n",
    "shap0 = np.abs(shap_values.values[:,:,0])\n",
    "shap1 = np.abs(shap_values.values[:,:,1])\n",
    "shap2 = np.abs(shap_values.values[:,:,2])\n",
    "\n",
    "shap0df = pd.DataFrame(data=shap0,\n",
    "             columns=shap_values.feature_names)\n",
    "\n",
    "'''\n",
    "\n",
    "#8. Shap values (understanding the model)\n",
    "#https://www.youtube.com/watch?v=L8_sVRhBDLU&ab_channel=ADataOdyssey\n",
    "shap.initjs()\n",
    "explainer = shap.TreeExplainer(rf_Grid.best_estimator_)\n",
    "shap_values = explainer(x_train)\n",
    "#shap_values.to_csv('results/multiclassModel/shapValues/shap_values.csv')\n",
    "##Aggregate shap values bar plots\n",
    "shap0 = np.abs(shap_values.values[:,:,0])\n",
    "shap1 = np.abs(shap_values.values[:,:,1])\n",
    "shap2 = np.abs(shap_values.values[:,:,2])\n",
    "\n",
    "shap0df = pd.DataFrame(data=shap0,\n",
    "             columns=shap_values.feature_names)\n",
    "\n",
    "#20240702 need to repeat the loop for each label and concat the three label dfs\n",
    "df_dict = {}\n",
    "for feature in shap_values.feature_names:\n",
    "    print(feature)\n",
    "    shap0df['Operation'] = 'A'\n",
    "    shap0df['Feature'] = 'holi'\n",
    "    df = shap0df[[feature, 'Feature', 'Operation']]\n",
    "    df['Feature'] = feature\n",
    "    df = df.rename(columns={feature:'Shap'})\n",
    "    df_dict[feature] = df\n",
    "\n",
    "pd.concat(df_dict.values())\n",
    "\n",
    "#mean plot\n",
    "mean0 = np.mean(shap0, axis=0)\n",
    "mean1 = np.mean(shap1, axis=0)\n",
    "mean2 = np.mean(shap2, axis=0)\n",
    "np.shape(mean0)\n",
    "shapMeandf = pd.DataFrame({'featureNames': shap_values.feature_names, 'A': mean0, 'C':mean1, 'N':mean2})\n",
    "shapMeandf = shapMeandf.set_index('featureNames').sort_values('N', ascending=False)\n",
    "shapMeandf\n",
    "plt.rcParams.update({'font.size': 16})\n",
    "fig, ax = plt.subplots(1,1,figsize=(12,7))\n",
    "shapMeandf.plot.bar(ax=ax)\n",
    "ax.set_ylabel('Abs mean Shap value')\n",
    "\n",
    "'''\n"
   ]
  }
 ],
 "metadata": {
  "kernelspec": {
   "display_name": "jupyter-env",
   "language": "python",
   "name": "python3"
  },
  "language_info": {
   "codemirror_mode": {
    "name": "ipython",
    "version": 3
   },
   "file_extension": ".py",
   "mimetype": "text/x-python",
   "name": "python",
   "nbconvert_exporter": "python",
   "pygments_lexer": "ipython3",
   "version": "3.11.7"
  }
 },
 "nbformat": 4,
 "nbformat_minor": 2
}
