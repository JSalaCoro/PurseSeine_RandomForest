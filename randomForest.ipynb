{
 "cells": [
  {
   "cell_type": "code",
   "execution_count": 2,
   "metadata": {},
   "outputs": [
    {
     "name": "stderr",
     "output_type": "stream",
     "text": [
      "C:\\Users\\jsala\\AppData\\Local\\Temp\\ipykernel_12140\\3280797872.py:1: DeprecationWarning: \n",
      "Pyarrow will become a required dependency of pandas in the next major release of pandas (pandas 3.0),\n",
      "(to allow more performant data types, such as the Arrow string type, and better interoperability with other libraries)\n",
      "but was not found to be installed on your system.\n",
      "If this would cause problems for you,\n",
      "please provide us feedback at https://github.com/pandas-dev/pandas/issues/54466\n",
      "        \n",
      "  import pandas as pd\n"
     ]
    },
    {
     "name": "stdout",
     "output_type": "stream",
     "text": [
      "Unbalanced dataset structure:\n",
      "Balanced dataset structure:\n"
     ]
    },
    {
     "data": {
      "text/html": [
       "<div>\n",
       "<style scoped>\n",
       "    .dataframe tbody tr th:only-of-type {\n",
       "        vertical-align: middle;\n",
       "    }\n",
       "\n",
       "    .dataframe tbody tr th {\n",
       "        vertical-align: top;\n",
       "    }\n",
       "\n",
       "    .dataframe thead th {\n",
       "        text-align: right;\n",
       "    }\n",
       "</style>\n",
       "<table border=\"1\" class=\"dataframe\">\n",
       "  <thead>\n",
       "    <tr style=\"text-align: right;\">\n",
       "      <th></th>\n",
       "      <th>Code</th>\n",
       "      <th>Date</th>\n",
       "      <th>Latitude</th>\n",
       "      <th>Longitude</th>\n",
       "      <th>geom</th>\n",
       "      <th>Speed</th>\n",
       "      <th>Course</th>\n",
       "      <th>CourseCorrected</th>\n",
       "      <th>TrackCode</th>\n",
       "      <th>Effort</th>\n",
       "      <th>...</th>\n",
       "      <th>IniDate</th>\n",
       "      <th>EndDate</th>\n",
       "      <th>DayTime</th>\n",
       "      <th>DayTime2</th>\n",
       "      <th>geometry</th>\n",
       "      <th>speedDiff-1</th>\n",
       "      <th>speedDiff+1</th>\n",
       "      <th>cogDiff</th>\n",
       "      <th>bufferGeom</th>\n",
       "      <th>bufferCount</th>\n",
       "    </tr>\n",
       "    <tr>\n",
       "      <th>Operation</th>\n",
       "      <th></th>\n",
       "      <th></th>\n",
       "      <th></th>\n",
       "      <th></th>\n",
       "      <th></th>\n",
       "      <th></th>\n",
       "      <th></th>\n",
       "      <th></th>\n",
       "      <th></th>\n",
       "      <th></th>\n",
       "      <th></th>\n",
       "      <th></th>\n",
       "      <th></th>\n",
       "      <th></th>\n",
       "      <th></th>\n",
       "      <th></th>\n",
       "      <th></th>\n",
       "      <th></th>\n",
       "      <th></th>\n",
       "      <th></th>\n",
       "      <th></th>\n",
       "    </tr>\n",
       "  </thead>\n",
       "  <tbody>\n",
       "    <tr>\n",
       "      <th>A</th>\n",
       "      <td>440</td>\n",
       "      <td>440</td>\n",
       "      <td>440</td>\n",
       "      <td>440</td>\n",
       "      <td>440</td>\n",
       "      <td>440</td>\n",
       "      <td>440</td>\n",
       "      <td>440</td>\n",
       "      <td>440</td>\n",
       "      <td>440</td>\n",
       "      <td>...</td>\n",
       "      <td>440</td>\n",
       "      <td>440</td>\n",
       "      <td>440</td>\n",
       "      <td>440</td>\n",
       "      <td>440</td>\n",
       "      <td>440</td>\n",
       "      <td>440</td>\n",
       "      <td>440</td>\n",
       "      <td>440</td>\n",
       "      <td>440</td>\n",
       "    </tr>\n",
       "    <tr>\n",
       "      <th>C</th>\n",
       "      <td>440</td>\n",
       "      <td>440</td>\n",
       "      <td>440</td>\n",
       "      <td>440</td>\n",
       "      <td>440</td>\n",
       "      <td>440</td>\n",
       "      <td>440</td>\n",
       "      <td>440</td>\n",
       "      <td>440</td>\n",
       "      <td>440</td>\n",
       "      <td>...</td>\n",
       "      <td>440</td>\n",
       "      <td>440</td>\n",
       "      <td>440</td>\n",
       "      <td>440</td>\n",
       "      <td>440</td>\n",
       "      <td>440</td>\n",
       "      <td>440</td>\n",
       "      <td>440</td>\n",
       "      <td>440</td>\n",
       "      <td>440</td>\n",
       "    </tr>\n",
       "    <tr>\n",
       "      <th>N</th>\n",
       "      <td>440</td>\n",
       "      <td>440</td>\n",
       "      <td>440</td>\n",
       "      <td>440</td>\n",
       "      <td>440</td>\n",
       "      <td>440</td>\n",
       "      <td>440</td>\n",
       "      <td>440</td>\n",
       "      <td>440</td>\n",
       "      <td>440</td>\n",
       "      <td>...</td>\n",
       "      <td>440</td>\n",
       "      <td>440</td>\n",
       "      <td>440</td>\n",
       "      <td>440</td>\n",
       "      <td>440</td>\n",
       "      <td>440</td>\n",
       "      <td>440</td>\n",
       "      <td>440</td>\n",
       "      <td>440</td>\n",
       "      <td>440</td>\n",
       "    </tr>\n",
       "  </tbody>\n",
       "</table>\n",
       "<p>3 rows × 23 columns</p>\n",
       "</div>"
      ],
      "text/plain": [
       "           Code  Date  Latitude  Longitude  geom  Speed  Course  \\\n",
       "Operation                                                         \n",
       "A           440   440       440        440   440    440     440   \n",
       "C           440   440       440        440   440    440     440   \n",
       "N           440   440       440        440   440    440     440   \n",
       "\n",
       "           CourseCorrected  TrackCode  Effort  ...  IniDate  EndDate  DayTime  \\\n",
       "Operation                                      ...                              \n",
       "A                      440        440     440  ...      440      440      440   \n",
       "C                      440        440     440  ...      440      440      440   \n",
       "N                      440        440     440  ...      440      440      440   \n",
       "\n",
       "           DayTime2  geometry  speedDiff-1  speedDiff+1  cogDiff  bufferGeom  \\\n",
       "Operation                                                                      \n",
       "A               440       440          440          440      440         440   \n",
       "C               440       440          440          440      440         440   \n",
       "N               440       440          440          440      440         440   \n",
       "\n",
       "           bufferCount  \n",
       "Operation               \n",
       "A                  440  \n",
       "C                  440  \n",
       "N                  440  \n",
       "\n",
       "[3 rows x 23 columns]"
      ]
     },
     "execution_count": 2,
     "metadata": {},
     "output_type": "execute_result"
    }
   ],
   "source": [
    "import pandas as pd\n",
    "from sklearn.model_selection import train_test_split\n",
    "from sklearn.ensemble import RandomForestClassifier\n",
    "from sklearn.preprocessing import LabelEncoder\n",
    "import matplotlib.pyplot as plt\n",
    "import seaborn as sns\n",
    "import matplotlib.pyplot as plt\n",
    "import seaborn as sns\n",
    "import numpy as np\n",
    "import sklearn\n",
    "from sklearn.model_selection import GridSearchCV\n",
    "from sklearn.metrics import roc_curve, precision_recall_curve, auc, make_scorer, recall_score, accuracy_score, precision_score, confusion_matrix, roc_auc_score, f1_score, average_precision_score, fbeta_score\n",
    "from sklearn.multiclass import OneVsRestClassifier\n",
    "import matplotlib.pyplot as plt\n",
    "import seaborn as sn\n",
    "from sklearn.metrics import confusion_matrix, accuracy_score, precision_recall_fscore_support, roc_curve, RocCurveDisplay\n",
    "from sklearn.neighbors import KNeighborsClassifier\n",
    "from scikitplot.metrics import plot_roc\n",
    "from scikitplot.metrics import plot_precision_recall, roc_curve\n",
    "import shap\n",
    "import sklearn\n",
    "import joblib\n",
    "#activate high interaction shell so print() is not necessary to show output. https://stackoverflow.com/questions/31764006/ipython-notebook-display-every-line-output-without-print\n",
    "from IPython.core.interactiveshell import InteractiveShell\n",
    "InteractiveShell.ast_node_interactivity = \"all\"\n",
    "\n",
    "#1. Get data\n",
    "vmsOp2 = pd.read_csv('data/vmsOp2.csv')\n",
    "vmsOp2 = vmsOp2.loc[vmsOp2['Date']>'2021-01-01'].copy()\n",
    "\n",
    "#2. Balance dataset between fishing operations (A, C, N)\n",
    "print('Unbalanced dataset structure:')\n",
    "vmsOp2.groupby('Operation').count()\n",
    "\n",
    "#sample same number of points as smallest category(C)\n",
    "n_bal = len(vmsOp2.loc[vmsOp2['Operation'] == 'C'])\n",
    "C_bal = vmsOp2.loc[vmsOp2['Operation']=='C'] #get all points for C\n",
    "A_bal = vmsOp2.loc[vmsOp2['Operation']=='A'].sample(n_bal)\n",
    "N_bal = vmsOp2.loc[vmsOp2['Operation']=='N'].sample(n_bal)\n",
    "\n",
    "print('Balanced dataset structure:')\n",
    "vmsOp2_bal = pd.concat([C_bal, A_bal, N_bal])\n",
    "vmsOp2_bal.groupby('Operation').count()\n"
   ]
  },
  {
   "cell_type": "code",
   "execution_count": 15,
   "metadata": {},
   "outputs": [
    {
     "name": "stdout",
     "output_type": "stream",
     "text": [
      "labels encoded as:\n"
     ]
    },
    {
     "data": {
      "text/plain": [
       "{'A': 0, 'C': 1, 'N': 2}"
      ]
     },
     "execution_count": 15,
     "metadata": {},
     "output_type": "execute_result"
    },
    {
     "name": "stdout",
     "output_type": "stream",
     "text": [
      "vmsOp2 balanced total len: 1320\n",
      "vmsOp2 balanced training len: 990\n",
      "vmsOp2 balanced test len: 330\n"
     ]
    },
    {
     "data": {
      "text/plain": [
       "2    115\n",
       "0    110\n",
       "1    105\n",
       "Name: count, dtype: int64"
      ]
     },
     "execution_count": 15,
     "metadata": {},
     "output_type": "execute_result"
    },
    {
     "data": {
      "text/html": [
       "<style>#sk-container-id-13 {color: black;background-color: white;}#sk-container-id-13 pre{padding: 0;}#sk-container-id-13 div.sk-toggleable {background-color: white;}#sk-container-id-13 label.sk-toggleable__label {cursor: pointer;display: block;width: 100%;margin-bottom: 0;padding: 0.3em;box-sizing: border-box;text-align: center;}#sk-container-id-13 label.sk-toggleable__label-arrow:before {content: \"▸\";float: left;margin-right: 0.25em;color: #696969;}#sk-container-id-13 label.sk-toggleable__label-arrow:hover:before {color: black;}#sk-container-id-13 div.sk-estimator:hover label.sk-toggleable__label-arrow:before {color: black;}#sk-container-id-13 div.sk-toggleable__content {max-height: 0;max-width: 0;overflow: hidden;text-align: left;background-color: #f0f8ff;}#sk-container-id-13 div.sk-toggleable__content pre {margin: 0.2em;color: black;border-radius: 0.25em;background-color: #f0f8ff;}#sk-container-id-13 input.sk-toggleable__control:checked~div.sk-toggleable__content {max-height: 200px;max-width: 100%;overflow: auto;}#sk-container-id-13 input.sk-toggleable__control:checked~label.sk-toggleable__label-arrow:before {content: \"▾\";}#sk-container-id-13 div.sk-estimator input.sk-toggleable__control:checked~label.sk-toggleable__label {background-color: #d4ebff;}#sk-container-id-13 div.sk-label input.sk-toggleable__control:checked~label.sk-toggleable__label {background-color: #d4ebff;}#sk-container-id-13 input.sk-hidden--visually {border: 0;clip: rect(1px 1px 1px 1px);clip: rect(1px, 1px, 1px, 1px);height: 1px;margin: -1px;overflow: hidden;padding: 0;position: absolute;width: 1px;}#sk-container-id-13 div.sk-estimator {font-family: monospace;background-color: #f0f8ff;border: 1px dotted black;border-radius: 0.25em;box-sizing: border-box;margin-bottom: 0.5em;}#sk-container-id-13 div.sk-estimator:hover {background-color: #d4ebff;}#sk-container-id-13 div.sk-parallel-item::after {content: \"\";width: 100%;border-bottom: 1px solid gray;flex-grow: 1;}#sk-container-id-13 div.sk-label:hover label.sk-toggleable__label {background-color: #d4ebff;}#sk-container-id-13 div.sk-serial::before {content: \"\";position: absolute;border-left: 1px solid gray;box-sizing: border-box;top: 0;bottom: 0;left: 50%;z-index: 0;}#sk-container-id-13 div.sk-serial {display: flex;flex-direction: column;align-items: center;background-color: white;padding-right: 0.2em;padding-left: 0.2em;position: relative;}#sk-container-id-13 div.sk-item {position: relative;z-index: 1;}#sk-container-id-13 div.sk-parallel {display: flex;align-items: stretch;justify-content: center;background-color: white;position: relative;}#sk-container-id-13 div.sk-item::before, #sk-container-id-13 div.sk-parallel-item::before {content: \"\";position: absolute;border-left: 1px solid gray;box-sizing: border-box;top: 0;bottom: 0;left: 50%;z-index: -1;}#sk-container-id-13 div.sk-parallel-item {display: flex;flex-direction: column;z-index: 1;position: relative;background-color: white;}#sk-container-id-13 div.sk-parallel-item:first-child::after {align-self: flex-end;width: 50%;}#sk-container-id-13 div.sk-parallel-item:last-child::after {align-self: flex-start;width: 50%;}#sk-container-id-13 div.sk-parallel-item:only-child::after {width: 0;}#sk-container-id-13 div.sk-dashed-wrapped {border: 1px dashed gray;margin: 0 0.4em 0.5em 0.4em;box-sizing: border-box;padding-bottom: 0.4em;background-color: white;}#sk-container-id-13 div.sk-label label {font-family: monospace;font-weight: bold;display: inline-block;line-height: 1.2em;}#sk-container-id-13 div.sk-label-container {text-align: center;}#sk-container-id-13 div.sk-container {/* jupyter's `normalize.less` sets `[hidden] { display: none; }` but bootstrap.min.css set `[hidden] { display: none !important; }` so we also need the `!important` here to be able to override the default hidden behavior on the sphinx rendered scikit-learn.org. See: https://github.com/scikit-learn/scikit-learn/issues/21755 */display: inline-block !important;position: relative;}#sk-container-id-13 div.sk-text-repr-fallback {display: none;}</style><div id=\"sk-container-id-13\" class=\"sk-top-container\"><div class=\"sk-text-repr-fallback\"><pre>RandomForestClassifier(max_features=1, n_estimators=300)</pre><b>In a Jupyter environment, please rerun this cell to show the HTML representation or trust the notebook. <br />On GitHub, the HTML representation is unable to render, please try loading this page with nbviewer.org.</b></div><div class=\"sk-container\" hidden><div class=\"sk-item\"><div class=\"sk-estimator sk-toggleable\"><input class=\"sk-toggleable__control sk-hidden--visually\" id=\"sk-estimator-id-13\" type=\"checkbox\" checked><label for=\"sk-estimator-id-13\" class=\"sk-toggleable__label sk-toggleable__label-arrow\">RandomForestClassifier</label><div class=\"sk-toggleable__content\"><pre>RandomForestClassifier(max_features=1, n_estimators=300)</pre></div></div></div></div></div>"
      ],
      "text/plain": [
       "RandomForestClassifier(max_features=1, n_estimators=300)"
      ]
     },
     "execution_count": 15,
     "metadata": {},
     "output_type": "execute_result"
    },
    {
     "name": "stdout",
     "output_type": "stream",
     "text": [
      "The model accuracy in the training dataset is: 1.0\n",
      "The model accuracy in the testing dataset is: 0.7333333333333333\n"
     ]
    }
   ],
   "source": [
    "#3. Split dataset into response (y) and predictive variables (x)\n",
    "finalDF = vmsOp2_bal\n",
    "finalDF.to_csv('data/balanced_dataset.csv')\n",
    "x = finalDF[['Speed', 'CourseCorrected', 'cogDiff', 'speedDiff+1', 'speedDiff-1', 'DayTime2', 'bufferCount']]\n",
    "y = finalDF.Operation\n",
    "\n",
    "#encode labels \n",
    "le = LabelEncoder()\n",
    "y = pd.Series(le.fit_transform(y))\n",
    "print('labels encoded as:')\n",
    "dict(zip(le.classes_, le.transform(le.classes_)))\n",
    "\n",
    "#4. Split x, y datasets into training and validation \n",
    "x_train, x_test, y_train, y_test = train_test_split(x, y, test_size=0.25)\n",
    "print('vmsOp2 balanced total len: ' + str(len(finalDF)))\n",
    "print('vmsOp2 balanced training len: ' + str(len(y_train)))\n",
    "print('vmsOp2 balanced test len: ' + str(len(y_test)))\n",
    "y_test.value_counts()\n",
    "\n",
    "#5. Check preliminar model accuracy (without hyperparameter tunning)\n",
    "model = RandomForestClassifier(n_estimators=300, max_features=1)\n",
    "model.fit(x_train, y_train) \n",
    "print('The model accuracy in the training dataset is: ' + str(model.score(x_train, y_train)))\n",
    "print('The model accuracy in the testing dataset is: ' + str(model.score(x_test, y_test)))\n"
   ]
  },
  {
   "cell_type": "code",
   "execution_count": 16,
   "metadata": {},
   "outputs": [
    {
     "data": {
      "text/plain": [
       "\"\\nmax_features = ['sqrt','log2']\\nmax_depth = [2,3,5,10]\\nmin_samples_split = [2,3,4,5] \\nmin_samples_leaf = [1,5,10,15,20]\\nbootstrap = [True, False]\\nmax_leaf_nodes = [2,5,10,50,100]\\nmin_impurity_decrease = [0.0, 0.1, 0.5, 1.0]\\nmax_samples = [0.25, 0.5, 0.75, 1.0]\\n\""
      ]
     },
     "execution_count": 16,
     "metadata": {},
     "output_type": "execute_result"
    },
    {
     "name": "stdout",
     "output_type": "stream",
     "text": [
      "Fitting final model with hyperparameter tunning...\n",
      "Fitting 5 folds for each of 144 candidates, totalling 720 fits\n"
     ]
    },
    {
     "name": "stderr",
     "output_type": "stream",
     "text": [
      "c:\\Users\\jsala\\anaconda3\\envs\\jupyter-env\\Lib\\site-packages\\sklearn\\model_selection\\_validation.py:378: FitFailedWarning: \n",
      "360 fits failed out of a total of 720.\n",
      "The score on these train-test partitions for these parameters will be set to nan.\n",
      "If these failures are not expected, you can try to debug them by setting error_score='raise'.\n",
      "\n",
      "Below are more details about the failures:\n",
      "--------------------------------------------------------------------------------\n",
      "360 fits failed with the following error:\n",
      "Traceback (most recent call last):\n",
      "  File \"c:\\Users\\jsala\\anaconda3\\envs\\jupyter-env\\Lib\\site-packages\\sklearn\\model_selection\\_validation.py\", line 686, in _fit_and_score\n",
      "    estimator.fit(X_train, y_train, **fit_params)\n",
      "  File \"c:\\Users\\jsala\\anaconda3\\envs\\jupyter-env\\Lib\\site-packages\\sklearn\\ensemble\\_forest.py\", line 397, in fit\n",
      "    raise ValueError(\n",
      "ValueError: `max_sample` cannot be set if `bootstrap=False`. Either switch to `bootstrap=True` or set `max_sample=None`.\n",
      "\n",
      "  warnings.warn(some_fits_failed_message, FitFailedWarning)\n",
      "c:\\Users\\jsala\\anaconda3\\envs\\jupyter-env\\Lib\\site-packages\\sklearn\\model_selection\\_search.py:952: UserWarning: One or more of the test scores are non-finite: [0.66060606 0.66565657 0.66464646 0.65656566 0.66565657 0.66363636\n",
      " 0.65656566 0.66464646 0.66464646 0.65959596 0.66262626 0.65555556\n",
      " 0.64848485 0.65757576 0.65656566 0.65353535 0.65858586 0.65959596\n",
      " 0.66161616 0.66464646 0.66363636 0.66262626 0.66262626 0.66767677\n",
      " 0.66262626 0.65959596 0.66363636 0.65454545 0.65656566 0.66262626\n",
      " 0.65050505 0.66161616 0.66161616 0.65151515 0.65858586 0.65555556\n",
      " 0.66767677 0.66262626 0.66464646 0.66262626 0.67070707 0.66767677\n",
      " 0.65454545 0.66565657 0.66363636 0.64949495 0.65757576 0.65959596\n",
      " 0.64949495 0.66060606 0.65757576 0.65858586 0.65858586 0.65858586\n",
      " 0.66262626 0.66161616 0.66262626 0.66060606 0.66363636 0.66565657\n",
      " 0.65959596 0.66161616 0.65858586 0.65252525 0.65959596 0.65858586\n",
      " 0.65151515 0.65252525 0.65656566 0.65353535 0.65858586 0.65757576\n",
      "        nan        nan        nan        nan        nan        nan\n",
      "        nan        nan        nan        nan        nan        nan\n",
      "        nan        nan        nan        nan        nan        nan\n",
      "        nan        nan        nan        nan        nan        nan\n",
      "        nan        nan        nan        nan        nan        nan\n",
      "        nan        nan        nan        nan        nan        nan\n",
      "        nan        nan        nan        nan        nan        nan\n",
      "        nan        nan        nan        nan        nan        nan\n",
      "        nan        nan        nan        nan        nan        nan\n",
      "        nan        nan        nan        nan        nan        nan\n",
      "        nan        nan        nan        nan        nan        nan\n",
      "        nan        nan        nan        nan        nan        nan]\n",
      "  warnings.warn(\n"
     ]
    },
    {
     "data": {
      "text/html": [
       "<style>#sk-container-id-14 {color: black;background-color: white;}#sk-container-id-14 pre{padding: 0;}#sk-container-id-14 div.sk-toggleable {background-color: white;}#sk-container-id-14 label.sk-toggleable__label {cursor: pointer;display: block;width: 100%;margin-bottom: 0;padding: 0.3em;box-sizing: border-box;text-align: center;}#sk-container-id-14 label.sk-toggleable__label-arrow:before {content: \"▸\";float: left;margin-right: 0.25em;color: #696969;}#sk-container-id-14 label.sk-toggleable__label-arrow:hover:before {color: black;}#sk-container-id-14 div.sk-estimator:hover label.sk-toggleable__label-arrow:before {color: black;}#sk-container-id-14 div.sk-toggleable__content {max-height: 0;max-width: 0;overflow: hidden;text-align: left;background-color: #f0f8ff;}#sk-container-id-14 div.sk-toggleable__content pre {margin: 0.2em;color: black;border-radius: 0.25em;background-color: #f0f8ff;}#sk-container-id-14 input.sk-toggleable__control:checked~div.sk-toggleable__content {max-height: 200px;max-width: 100%;overflow: auto;}#sk-container-id-14 input.sk-toggleable__control:checked~label.sk-toggleable__label-arrow:before {content: \"▾\";}#sk-container-id-14 div.sk-estimator input.sk-toggleable__control:checked~label.sk-toggleable__label {background-color: #d4ebff;}#sk-container-id-14 div.sk-label input.sk-toggleable__control:checked~label.sk-toggleable__label {background-color: #d4ebff;}#sk-container-id-14 input.sk-hidden--visually {border: 0;clip: rect(1px 1px 1px 1px);clip: rect(1px, 1px, 1px, 1px);height: 1px;margin: -1px;overflow: hidden;padding: 0;position: absolute;width: 1px;}#sk-container-id-14 div.sk-estimator {font-family: monospace;background-color: #f0f8ff;border: 1px dotted black;border-radius: 0.25em;box-sizing: border-box;margin-bottom: 0.5em;}#sk-container-id-14 div.sk-estimator:hover {background-color: #d4ebff;}#sk-container-id-14 div.sk-parallel-item::after {content: \"\";width: 100%;border-bottom: 1px solid gray;flex-grow: 1;}#sk-container-id-14 div.sk-label:hover label.sk-toggleable__label {background-color: #d4ebff;}#sk-container-id-14 div.sk-serial::before {content: \"\";position: absolute;border-left: 1px solid gray;box-sizing: border-box;top: 0;bottom: 0;left: 50%;z-index: 0;}#sk-container-id-14 div.sk-serial {display: flex;flex-direction: column;align-items: center;background-color: white;padding-right: 0.2em;padding-left: 0.2em;position: relative;}#sk-container-id-14 div.sk-item {position: relative;z-index: 1;}#sk-container-id-14 div.sk-parallel {display: flex;align-items: stretch;justify-content: center;background-color: white;position: relative;}#sk-container-id-14 div.sk-item::before, #sk-container-id-14 div.sk-parallel-item::before {content: \"\";position: absolute;border-left: 1px solid gray;box-sizing: border-box;top: 0;bottom: 0;left: 50%;z-index: -1;}#sk-container-id-14 div.sk-parallel-item {display: flex;flex-direction: column;z-index: 1;position: relative;background-color: white;}#sk-container-id-14 div.sk-parallel-item:first-child::after {align-self: flex-end;width: 50%;}#sk-container-id-14 div.sk-parallel-item:last-child::after {align-self: flex-start;width: 50%;}#sk-container-id-14 div.sk-parallel-item:only-child::after {width: 0;}#sk-container-id-14 div.sk-dashed-wrapped {border: 1px dashed gray;margin: 0 0.4em 0.5em 0.4em;box-sizing: border-box;padding-bottom: 0.4em;background-color: white;}#sk-container-id-14 div.sk-label label {font-family: monospace;font-weight: bold;display: inline-block;line-height: 1.2em;}#sk-container-id-14 div.sk-label-container {text-align: center;}#sk-container-id-14 div.sk-container {/* jupyter's `normalize.less` sets `[hidden] { display: none; }` but bootstrap.min.css set `[hidden] { display: none !important; }` so we also need the `!important` here to be able to override the default hidden behavior on the sphinx rendered scikit-learn.org. See: https://github.com/scikit-learn/scikit-learn/issues/21755 */display: inline-block !important;position: relative;}#sk-container-id-14 div.sk-text-repr-fallback {display: none;}</style><div id=\"sk-container-id-14\" class=\"sk-top-container\"><div class=\"sk-text-repr-fallback\"><pre>GridSearchCV(cv=5, estimator=RandomForestClassifier(class_weight=&#x27;balanced&#x27;),\n",
       "             n_jobs=10,\n",
       "             param_grid={&#x27;bootstrap&#x27;: [True, False], &#x27;max_depth&#x27;: [3, 5],\n",
       "                         &#x27;max_features&#x27;: [&#x27;sqrt&#x27;, &#x27;log2&#x27;],\n",
       "                         &#x27;max_leaf_nodes&#x27;: [10], &#x27;max_samples&#x27;: [0.25],\n",
       "                         &#x27;min_impurity_decrease&#x27;: [0.0],\n",
       "                         &#x27;min_samples_leaf&#x27;: [10, 15],\n",
       "                         &#x27;min_samples_split&#x27;: [2, 3, 5],\n",
       "                         &#x27;n_estimators&#x27;: [100, 1050, 2000]},\n",
       "             refit=&#x27;accuracy_score&#x27;,\n",
       "             scoring={&#x27;accuracy_score&#x27;: make_scorer(accuracy_score),\n",
       "                      &#x27;f1_score&#x27;: make_scorer(f1_score, average=micro),\n",
       "                      &#x27;precision_score&#x27;: make_scorer(precision_score, average=micro),\n",
       "                      &#x27;recall_score&#x27;: make_scorer(recall_score, average=micro)},\n",
       "             verbose=1)</pre><b>In a Jupyter environment, please rerun this cell to show the HTML representation or trust the notebook. <br />On GitHub, the HTML representation is unable to render, please try loading this page with nbviewer.org.</b></div><div class=\"sk-container\" hidden><div class=\"sk-item sk-dashed-wrapped\"><div class=\"sk-label-container\"><div class=\"sk-label sk-toggleable\"><input class=\"sk-toggleable__control sk-hidden--visually\" id=\"sk-estimator-id-14\" type=\"checkbox\" ><label for=\"sk-estimator-id-14\" class=\"sk-toggleable__label sk-toggleable__label-arrow\">GridSearchCV</label><div class=\"sk-toggleable__content\"><pre>GridSearchCV(cv=5, estimator=RandomForestClassifier(class_weight=&#x27;balanced&#x27;),\n",
       "             n_jobs=10,\n",
       "             param_grid={&#x27;bootstrap&#x27;: [True, False], &#x27;max_depth&#x27;: [3, 5],\n",
       "                         &#x27;max_features&#x27;: [&#x27;sqrt&#x27;, &#x27;log2&#x27;],\n",
       "                         &#x27;max_leaf_nodes&#x27;: [10], &#x27;max_samples&#x27;: [0.25],\n",
       "                         &#x27;min_impurity_decrease&#x27;: [0.0],\n",
       "                         &#x27;min_samples_leaf&#x27;: [10, 15],\n",
       "                         &#x27;min_samples_split&#x27;: [2, 3, 5],\n",
       "                         &#x27;n_estimators&#x27;: [100, 1050, 2000]},\n",
       "             refit=&#x27;accuracy_score&#x27;,\n",
       "             scoring={&#x27;accuracy_score&#x27;: make_scorer(accuracy_score),\n",
       "                      &#x27;f1_score&#x27;: make_scorer(f1_score, average=micro),\n",
       "                      &#x27;precision_score&#x27;: make_scorer(precision_score, average=micro),\n",
       "                      &#x27;recall_score&#x27;: make_scorer(recall_score, average=micro)},\n",
       "             verbose=1)</pre></div></div></div><div class=\"sk-parallel\"><div class=\"sk-parallel-item\"><div class=\"sk-item\"><div class=\"sk-label-container\"><div class=\"sk-label sk-toggleable\"><input class=\"sk-toggleable__control sk-hidden--visually\" id=\"sk-estimator-id-15\" type=\"checkbox\" ><label for=\"sk-estimator-id-15\" class=\"sk-toggleable__label sk-toggleable__label-arrow\">estimator: RandomForestClassifier</label><div class=\"sk-toggleable__content\"><pre>RandomForestClassifier(class_weight=&#x27;balanced&#x27;)</pre></div></div></div><div class=\"sk-serial\"><div class=\"sk-item\"><div class=\"sk-estimator sk-toggleable\"><input class=\"sk-toggleable__control sk-hidden--visually\" id=\"sk-estimator-id-16\" type=\"checkbox\" ><label for=\"sk-estimator-id-16\" class=\"sk-toggleable__label sk-toggleable__label-arrow\">RandomForestClassifier</label><div class=\"sk-toggleable__content\"><pre>RandomForestClassifier(class_weight=&#x27;balanced&#x27;)</pre></div></div></div></div></div></div></div></div></div></div>"
      ],
      "text/plain": [
       "GridSearchCV(cv=5, estimator=RandomForestClassifier(class_weight='balanced'),\n",
       "             n_jobs=10,\n",
       "             param_grid={'bootstrap': [True, False], 'max_depth': [3, 5],\n",
       "                         'max_features': ['sqrt', 'log2'],\n",
       "                         'max_leaf_nodes': [10], 'max_samples': [0.25],\n",
       "                         'min_impurity_decrease': [0.0],\n",
       "                         'min_samples_leaf': [10, 15],\n",
       "                         'min_samples_split': [2, 3, 5],\n",
       "                         'n_estimators': [100, 1050, 2000]},\n",
       "             refit='accuracy_score',\n",
       "             scoring={'accuracy_score': make_scorer(accuracy_score),\n",
       "                      'f1_score': make_scorer(f1_score, average=micro),\n",
       "                      'precision_score': make_scorer(precision_score, average=micro),\n",
       "                      'recall_score': make_scorer(recall_score, average=micro)},\n",
       "             verbose=1)"
      ]
     },
     "execution_count": 16,
     "metadata": {},
     "output_type": "execute_result"
    },
    {
     "name": "stdout",
     "output_type": "stream",
     "text": [
      "{'bootstrap': True, 'max_depth': 5, 'max_features': 'sqrt', 'max_leaf_nodes': 10, 'max_samples': 0.25, 'min_impurity_decrease': 0.0, 'min_samples_leaf': 10, 'min_samples_split': 3, 'n_estimators': 1050}\n",
      "Model accuracy in the training dataset is: 0.694949494949495\n",
      "Model accuracy in the test dataset: 0.696969696969697\n"
     ]
    },
    {
     "data": {
      "text/html": [
       "<style>#sk-container-id-15 {color: black;background-color: white;}#sk-container-id-15 pre{padding: 0;}#sk-container-id-15 div.sk-toggleable {background-color: white;}#sk-container-id-15 label.sk-toggleable__label {cursor: pointer;display: block;width: 100%;margin-bottom: 0;padding: 0.3em;box-sizing: border-box;text-align: center;}#sk-container-id-15 label.sk-toggleable__label-arrow:before {content: \"▸\";float: left;margin-right: 0.25em;color: #696969;}#sk-container-id-15 label.sk-toggleable__label-arrow:hover:before {color: black;}#sk-container-id-15 div.sk-estimator:hover label.sk-toggleable__label-arrow:before {color: black;}#sk-container-id-15 div.sk-toggleable__content {max-height: 0;max-width: 0;overflow: hidden;text-align: left;background-color: #f0f8ff;}#sk-container-id-15 div.sk-toggleable__content pre {margin: 0.2em;color: black;border-radius: 0.25em;background-color: #f0f8ff;}#sk-container-id-15 input.sk-toggleable__control:checked~div.sk-toggleable__content {max-height: 200px;max-width: 100%;overflow: auto;}#sk-container-id-15 input.sk-toggleable__control:checked~label.sk-toggleable__label-arrow:before {content: \"▾\";}#sk-container-id-15 div.sk-estimator input.sk-toggleable__control:checked~label.sk-toggleable__label {background-color: #d4ebff;}#sk-container-id-15 div.sk-label input.sk-toggleable__control:checked~label.sk-toggleable__label {background-color: #d4ebff;}#sk-container-id-15 input.sk-hidden--visually {border: 0;clip: rect(1px 1px 1px 1px);clip: rect(1px, 1px, 1px, 1px);height: 1px;margin: -1px;overflow: hidden;padding: 0;position: absolute;width: 1px;}#sk-container-id-15 div.sk-estimator {font-family: monospace;background-color: #f0f8ff;border: 1px dotted black;border-radius: 0.25em;box-sizing: border-box;margin-bottom: 0.5em;}#sk-container-id-15 div.sk-estimator:hover {background-color: #d4ebff;}#sk-container-id-15 div.sk-parallel-item::after {content: \"\";width: 100%;border-bottom: 1px solid gray;flex-grow: 1;}#sk-container-id-15 div.sk-label:hover label.sk-toggleable__label {background-color: #d4ebff;}#sk-container-id-15 div.sk-serial::before {content: \"\";position: absolute;border-left: 1px solid gray;box-sizing: border-box;top: 0;bottom: 0;left: 50%;z-index: 0;}#sk-container-id-15 div.sk-serial {display: flex;flex-direction: column;align-items: center;background-color: white;padding-right: 0.2em;padding-left: 0.2em;position: relative;}#sk-container-id-15 div.sk-item {position: relative;z-index: 1;}#sk-container-id-15 div.sk-parallel {display: flex;align-items: stretch;justify-content: center;background-color: white;position: relative;}#sk-container-id-15 div.sk-item::before, #sk-container-id-15 div.sk-parallel-item::before {content: \"\";position: absolute;border-left: 1px solid gray;box-sizing: border-box;top: 0;bottom: 0;left: 50%;z-index: -1;}#sk-container-id-15 div.sk-parallel-item {display: flex;flex-direction: column;z-index: 1;position: relative;background-color: white;}#sk-container-id-15 div.sk-parallel-item:first-child::after {align-self: flex-end;width: 50%;}#sk-container-id-15 div.sk-parallel-item:last-child::after {align-self: flex-start;width: 50%;}#sk-container-id-15 div.sk-parallel-item:only-child::after {width: 0;}#sk-container-id-15 div.sk-dashed-wrapped {border: 1px dashed gray;margin: 0 0.4em 0.5em 0.4em;box-sizing: border-box;padding-bottom: 0.4em;background-color: white;}#sk-container-id-15 div.sk-label label {font-family: monospace;font-weight: bold;display: inline-block;line-height: 1.2em;}#sk-container-id-15 div.sk-label-container {text-align: center;}#sk-container-id-15 div.sk-container {/* jupyter's `normalize.less` sets `[hidden] { display: none; }` but bootstrap.min.css set `[hidden] { display: none !important; }` so we also need the `!important` here to be able to override the default hidden behavior on the sphinx rendered scikit-learn.org. See: https://github.com/scikit-learn/scikit-learn/issues/21755 */display: inline-block !important;position: relative;}#sk-container-id-15 div.sk-text-repr-fallback {display: none;}</style><div id=\"sk-container-id-15\" class=\"sk-top-container\"><div class=\"sk-text-repr-fallback\"><pre>RandomForestClassifier(class_weight=&#x27;balanced&#x27;, max_depth=5, max_leaf_nodes=10,\n",
       "                       max_samples=0.25, min_samples_leaf=10,\n",
       "                       min_samples_split=3, n_estimators=1050)</pre><b>In a Jupyter environment, please rerun this cell to show the HTML representation or trust the notebook. <br />On GitHub, the HTML representation is unable to render, please try loading this page with nbviewer.org.</b></div><div class=\"sk-container\" hidden><div class=\"sk-item\"><div class=\"sk-estimator sk-toggleable\"><input class=\"sk-toggleable__control sk-hidden--visually\" id=\"sk-estimator-id-17\" type=\"checkbox\" checked><label for=\"sk-estimator-id-17\" class=\"sk-toggleable__label sk-toggleable__label-arrow\">RandomForestClassifier</label><div class=\"sk-toggleable__content\"><pre>RandomForestClassifier(class_weight=&#x27;balanced&#x27;, max_depth=5, max_leaf_nodes=10,\n",
       "                       max_samples=0.25, min_samples_leaf=10,\n",
       "                       min_samples_split=3, n_estimators=1050)</pre></div></div></div></div></div>"
      ],
      "text/plain": [
       "RandomForestClassifier(class_weight='balanced', max_depth=5, max_leaf_nodes=10,\n",
       "                       max_samples=0.25, min_samples_leaf=10,\n",
       "                       min_samples_split=3, n_estimators=1050)"
      ]
     },
     "execution_count": 16,
     "metadata": {},
     "output_type": "execute_result"
    },
    {
     "data": {
      "text/plain": [
       "<bound method ClassifierMixin.score of RandomForestClassifier(class_weight='balanced', max_depth=5, max_leaf_nodes=10,\n",
       "                       max_samples=0.25, min_samples_leaf=10,\n",
       "                       min_samples_split=3, n_estimators=1050)>"
      ]
     },
     "execution_count": 16,
     "metadata": {},
     "output_type": "execute_result"
    },
    {
     "data": {
      "text/plain": [
       "['results/multiclassModel/fittedModel_multiClass.pkl']"
      ]
     },
     "execution_count": 16,
     "metadata": {},
     "output_type": "execute_result"
    }
   ],
   "source": [
    "#6. Hyperparameter tunning\n",
    "n_estimators = [int(x) for x in np.linspace(start=100, stop=2000, num = 3)]\n",
    "'''\n",
    "max_features = ['sqrt','log2']\n",
    "max_depth = [2,3,5,10]\n",
    "min_samples_split = [2,3,4,5] \n",
    "min_samples_leaf = [1,5,10,15,20]\n",
    "bootstrap = [True, False]\n",
    "max_leaf_nodes = [2,5,10,50,100]\n",
    "min_impurity_decrease = [0.0, 0.1, 0.5, 1.0]\n",
    "max_samples = [0.25, 0.5, 0.75, 1.0]\n",
    "'''\n",
    "max_features = ['sqrt','log2']\n",
    "max_depth = [3,5]\n",
    "min_samples_split = [2,3,5] \n",
    "min_samples_leaf = [10,15]\n",
    "bootstrap = [True, False]\n",
    "max_leaf_nodes = [10]\n",
    "min_impurity_decrease = [0.0]\n",
    "max_samples = [0.25]\n",
    "\n",
    "param_grid = {'n_estimators': n_estimators,\n",
    "              'max_features': max_features,\n",
    "              'max_depth': max_depth,\n",
    "              'min_samples_split': min_samples_split,\n",
    "              'min_samples_leaf': min_samples_leaf,\n",
    "              'bootstrap': bootstrap,\n",
    "              'max_leaf_nodes' : max_leaf_nodes,\n",
    "              'min_impurity_decrease' : min_impurity_decrease,\n",
    "              'max_samples' : max_samples\n",
    "              }\n",
    "\n",
    "scorers = {\n",
    "    'precision_score': make_scorer(precision_score, average='micro')\n",
    "    ,'recall_score': make_scorer(recall_score, average='micro')\n",
    "    ,'f1_score': make_scorer(f1_score, average='micro')\n",
    "    ,'accuracy_score': make_scorer(accuracy_score)\n",
    "}\n",
    "\n",
    "modelH = RandomForestClassifier(class_weight='balanced')\n",
    "print('Fitting final model with hyperparameter tunning...')\n",
    "rf_Grid = GridSearchCV(estimator = modelH, param_grid=param_grid, scoring=scorers, refit='accuracy_score', cv=5, verbose=1, n_jobs=10)\n",
    "rf_Grid.fit(x_train, y_train)\n",
    "\n",
    "print(rf_Grid.best_params_)\n",
    "print('Model accuracy in the training dataset is: ' + str(rf_Grid.score(x_train, y_train)))\n",
    "print('Model accuracy in the test dataset: ' + str(rf_Grid.score(x_test, y_test)))\n",
    "\n",
    "rf_Grid.best_estimator_\n",
    "rf_Grid.best_estimator_.score\n",
    "pd.DataFrame(rf_Grid.cv_results_).to_csv('results/multiclassModel/gridSearchCV_results.csv')\n",
    "joblib.dump(rf_Grid, 'results/multiclassModel/fittedModel_multiClass.pkl')\n"
   ]
  },
  {
   "cell_type": "code",
   "execution_count": 19,
   "metadata": {},
   "outputs": [
    {
     "ename": "ImportError",
     "evalue": "cannot import name 'model_scoring_and_confusion_matrix_multiclassModel' from 'modelCheckFunctions' (c:\\Users\\jsala\\ownCloud\\papers\\paperPeixBlau\\PS_ML_git\\PurseSeine_RandomForest\\modelCheckFunctions.py)",
     "output_type": "error",
     "traceback": [
      "\u001b[1;31m---------------------------------------------------------------------------\u001b[0m",
      "\u001b[1;31mImportError\u001b[0m                               Traceback (most recent call last)",
      "Cell \u001b[1;32mIn[19], line 1\u001b[0m\n\u001b[1;32m----> 1\u001b[0m \u001b[38;5;28;01mfrom\u001b[39;00m \u001b[38;5;21;01mmodelCheckFunctions\u001b[39;00m \u001b[38;5;28;01mimport\u001b[39;00m model_scoring_and_confusion_matrix_multiclassModel\n\u001b[0;32m      2\u001b[0m \u001b[38;5;66;03m#7. Check fitted model performance\u001b[39;00m\n\u001b[0;32m      3\u001b[0m \u001b[38;5;66;03m#Get model predictions \u001b[39;00m\n\u001b[0;32m      4\u001b[0m y_pred \u001b[38;5;241m=\u001b[39m rf_Grid\u001b[38;5;241m.\u001b[39mbest_estimator_\u001b[38;5;241m.\u001b[39mpredict(x_test)\n",
      "\u001b[1;31mImportError\u001b[0m: cannot import name 'model_scoring_and_confusion_matrix_multiclassModel' from 'modelCheckFunctions' (c:\\Users\\jsala\\ownCloud\\papers\\paperPeixBlau\\PS_ML_git\\PurseSeine_RandomForest\\modelCheckFunctions.py)"
     ]
    }
   ],
   "source": [
    "from modelCheckFunctions import model_scoring_and_confusion_matrix_multiclassModel\n",
    "#7. Check fitted model performance\n",
    "#Get model predictions \n",
    "y_pred = rf_Grid.best_estimator_.predict(x_test)\n",
    "y_score = rf_Grid.best_estimator_.predict_proba(x_test)\n",
    "\n",
    "#Confusion matrix\n",
    "model_scoring_and_confusion_matrix_multiclassModel(y_test, y_pred)\n",
    "\n",
    "#Roc curve\n",
    "plot_roc(le.inverse_transform(y_test), y_score)\n",
    "plt.show()\n",
    "\n",
    "#Precision recall curve\n",
    "plot_precision_recall(le.inverse_transform(y_test), y_score)\n",
    "plt.show()"
   ]
  },
  {
   "cell_type": "code",
   "execution_count": null,
   "metadata": {},
   "outputs": [],
   "source": [
    "#8. Shap values (understanding the model)\n",
    "#https://www.youtube.com/watch?v=L8_sVRhBDLU&ab_channel=ADataOdyssey\n",
    "shap.initjs()\n",
    "type(rf_Grid.best_estimator_)\n",
    "explainer = shap.TreeExplainer(rf_Grid.best_estimator_)\n",
    "shap_values = explainer(x_train)"
   ]
  }
 ],
 "metadata": {
  "kernelspec": {
   "display_name": "jupyter-env",
   "language": "python",
   "name": "python3"
  },
  "language_info": {
   "codemirror_mode": {
    "name": "ipython",
    "version": 3
   },
   "file_extension": ".py",
   "mimetype": "text/x-python",
   "name": "python",
   "nbconvert_exporter": "python",
   "pygments_lexer": "ipython3",
   "version": "3.11.7"
  }
 },
 "nbformat": 4,
 "nbformat_minor": 2
}
