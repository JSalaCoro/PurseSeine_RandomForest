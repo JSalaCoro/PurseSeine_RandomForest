{
 "cells": [
  {
   "cell_type": "code",
   "execution_count": 2,
   "metadata": {},
   "outputs": [
    {
     "name": "stdout",
     "output_type": "stream",
     "text": [
      "Testing the model binaryModel\n"
     ]
    },
    {
     "data": {
      "text/plain": [
       "8.411289549376798"
      ]
     },
     "execution_count": 2,
     "metadata": {},
     "output_type": "execute_result"
    },
    {
     "data": {
      "text/plain": [
       "983"
      ]
     },
     "execution_count": 2,
     "metadata": {},
     "output_type": "execute_result"
    },
    {
     "data": {
      "text/plain": [
       "584"
      ]
     },
     "execution_count": 2,
     "metadata": {},
     "output_type": "execute_result"
    },
    {
     "data": {
      "text/plain": [
       "383"
      ]
     },
     "execution_count": 2,
     "metadata": {},
     "output_type": "execute_result"
    },
    {
     "data": {
      "text/plain": [
       "278"
      ]
     },
     "execution_count": 2,
     "metadata": {},
     "output_type": "execute_result"
    },
    {
     "data": {
      "text/plain": [
       "209"
      ]
     },
     "execution_count": 2,
     "metadata": {},
     "output_type": "execute_result"
    }
   ],
   "source": [
    "import datetime as dt\n",
    "import pandas as pd\n",
    "import geopandas as gpd\n",
    "from sqlalchemy import create_engine \n",
    "from sqlalchemy import text\n",
    "import geoalchemy2\n",
    "from shapely import wkt\n",
    "from pandarallel import pandarallel\n",
    "import matplotlib.pyplot as plt\n",
    "import seaborn as sns\n",
    "import joblib\n",
    "import shapely\n",
    "#activate high interaction shell so print() is not necessary to show output. https://stackoverflow.com/questions/31764006/ipython-notebook-display-every-line-output-without-print\n",
    "from IPython.core.interactiveshell import InteractiveShell\n",
    "InteractiveShell.ast_node_interactivity = \"all\"\n",
    "\n",
    "TEST_THE_MODEL = 'binaryModel'\n",
    "#TEST_THE_MODEL = 'multiclassModel'\n",
    "#TEST_THE_MODEL = 'speedFilter'\n",
    "\n",
    "if TEST_THE_MODEL == 'multiclassModel':\n",
    "    print('Testing the model ' + TEST_THE_MODEL)\n",
    "    #path = 'results/multiclassModel/'\n",
    "    labelsDict = {0:'A', 1:'C', 2:'N'}\n",
    "    MLmodel = joblib.load('results/multiclassModel/fittedModel_multiClassModel.pkl')\n",
    "\n",
    "if TEST_THE_MODEL == 'binaryModel':\n",
    "    print('Testing the model ' + TEST_THE_MODEL)\n",
    "    #path = 'results/binaryModel/'\n",
    "    labelsDict = {0:'AN', 1:'C'}\n",
    "    MLmodel = joblib.load('results/binaryModel/fittedModel_binaryModel.pkl')\n",
    "\n",
    "if TEST_THE_MODEL == 'speedFilter':\n",
    "    print('Testing the model ' + TEST_THE_MODEL)\n",
    "    #pathImport = 'results/speedFilter/'\n",
    "    #pathExport = '/home/joan/Desktop/ICM_SAP/papers/paperPeixBlau/dataAnalysis/ModelFishingEffortCheck/speedFilter/'\n",
    "    labelsDict1 = {False:'AN', True:'C'}\n",
    "\n",
    "#create loop instead\n",
    "kmsq1 = pd.read_csv('data/spatialGrids/kmsq1.csv')\n",
    "kmsq1 = gpd.GeoDataFrame(kmsq1, crs=\"EPSG:4326\", geometry=kmsq1['geom'].apply(shapely.wkt.loads))\n",
    "kmsq2 = pd.read_csv('data/spatialGrids/kmsq2.csv')\n",
    "kmsq2 = gpd.GeoDataFrame(kmsq2, crs=\"EPSG:4326\", geometry=kmsq2['geom'].apply(shapely.wkt.loads))\n",
    "kmsq3 = pd.read_csv('data/spatialGrids/kmsq3.csv')\n",
    "kmsq3 = gpd.GeoDataFrame(kmsq3, crs=\"EPSG:4326\", geometry=kmsq3['geom'].apply(shapely.wkt.loads))\n",
    "kmsq4 = pd.read_csv('data/spatialGrids/kmsq4.csv')\n",
    "kmsq4 = gpd.GeoDataFrame(kmsq4, crs=\"EPSG:4326\", geometry=kmsq4['geom'].apply(shapely.wkt.loads))\n",
    "kmsq5 = pd.read_csv('data/spatialGrids/kmsq5.csv')\n",
    "kmsq5 = gpd.GeoDataFrame(kmsq5, crs=\"EPSG:4326\", geometry=kmsq5['geom'].apply(shapely.wkt.loads))\n",
    "filterPSpoly = pd.read_csv('data/spatialGrids/filterPSpoly.csv')\n",
    "filterPSpoly = gpd.GeoDataFrame(filterPSpoly, crs=\"EPSG:4326\", geometry=filterPSpoly['geom'].apply(shapely.wkt.loads))\n",
    "\n",
    "#1. get data\n",
    "vmsOp2 = pd.read_csv('data/vmsOp2.csv')\n",
    "#need to filter more than 2021?\n",
    "vmsOp2 = gpd.GeoDataFrame(vmsOp2, geometry=vmsOp2['geom'].apply(shapely.wkt.loads), crs='EPSG:4326')\n",
    "vmsOp2 = vmsOp2.drop('geom', axis='columns').rename(columns={'geometry':'geom'}).set_geometry('geom')\n",
    "\n",
    "#2. model predictions\n",
    "if TEST_THE_MODEL == 'multiclassModel' or TEST_THE_MODEL == 'binaryModel':\n",
    "    vmsOp2_x = vmsOp2[['Speed', 'CourseCorrected', 'cogDiff', 'speedDiff+1', 'speedDiff-1', 'DayTime2', 'bufferCount']]\n",
    "    vmsOp2_y_pred = MLmodel.best_estimator_.predict(vmsOp2_x)\n",
    "    #merge model predictions to original dataset\n",
    "    vmsOp2_pred = pd.concat([vmsOp2.reset_index(), pd.DataFrame(pd.Series(vmsOp2_y_pred), columns=['OperationPred']).replace({'OperationPred':labelsDict})], join='outer', axis=1)\n",
    "    vmsOp2_pred = vmsOp2_pred.set_geometry('geom')\n",
    "if TEST_THE_MODEL == 'speedFilter':\n",
    "    vmsOp2_pred = vmsOp2\n",
    "    vmsOp2_pred['OperationPred'] = vmsOp2_pred['Fishing'] #there is already a column where speed<6.5kn is considered a fishing point\n",
    "    vmsOp2_pred = vmsOp2_pred.replace({'OperationPred':labelsDict1}).set_geometry('geom')\n",
    "\n",
    "\n",
    "#3. fishing effort estimates\n",
    "#3.1. Filter by fishing poly (will create a new column 'OperationPred2' will keep 'OperationPred' value only if point is inside fishing polygon, otherwise will be false)\n",
    "vmsOp2_pred['OperationPred2'] = vmsOp2_pred.apply(lambda row: (False if filterPSpoly.geometry.contains(row['geom'])[0] == False else row['OperationPred']), axis=1)\n",
    "\n",
    "#3.3. Renaming\n",
    "#columns renaming\n",
    "vmsOp2_pred = vmsOp2_pred.rename(columns={'Operation':'ObservedOp', 'OperationPred2':'PredictedOp'})\n",
    "#rename observed operations labels for binary and speedFilter models so can be comparable to pre\n",
    "if TEST_THE_MODEL == 'binaryModel' or TEST_THE_MODEL == 'speedFilter': \n",
    "    vmsOp2_pred = vmsOp2_pred.replace({'ObservedOp':{'A':'AN', 'N':'AN'}})\n",
    "\n",
    "#save models prediction data\n",
    "vmsOp2_pred.to_csv('results/'+ TEST_THE_MODEL + '/fishingEffortCheck/vmsOp2_pred.csv')\n",
    "\n",
    "#3.3. Calculate mean point frequency\n",
    "vmsOp2_pred.Date = pd.to_datetime(vmsOp2_pred.Date, utc=True)\n",
    "vmsOp2_pred['timeDiff'] = vmsOp2_pred.groupby(['TrackCode'])['Date'].diff().dt.total_seconds()\n",
    "meanFreqMinVMS = vmsOp2_pred['timeDiff'].mean()/60\n",
    "meanFreqMinVMS\n",
    "\n",
    "#3.4. Estimates by kmsq grids\n",
    "kmsq = {'1km':kmsq1, '2km':kmsq2,'3km':kmsq3, '4km':kmsq4, '5km':kmsq5}\n",
    "kmsqVMSobsdict = {}\n",
    "kmsqVMSpreddict = {}\n",
    "\n",
    "for kmsqKey in kmsq:\n",
    "    #get kmsq dataframe corresponding to loop\n",
    "    kmsqDF = gpd.GeoDataFrame(kmsq.get(kmsqKey))\n",
    "    #join vms dataset with grid. Exclude False points\n",
    "    vmsOpKmsq = vmsOp2_pred[vmsOp2_pred['PredictedOp'] != False].sjoin(kmsqDF, how='left')\n",
    "    #count number of points by predicted operation and calculate operation time\n",
    "    for pred in ['ObservedOp', 'PredictedOp']:\n",
    "        vmsOpKmsqSum = vmsOpKmsq.groupby(by=['kmsqId',pred], as_index=False)['TrackCode'].count().reset_index().rename(columns={'TrackCode':str('VMS_pointCount_' + pred)})   \n",
    "        vmsOpKmsqSum[str('VMSOpTime(min)_'+pred)] = vmsOpKmsqSum[str('VMS_pointCount_' + pred)]*meanFreqMinVMS\n",
    "        #merge geom and export\n",
    "        vmsOpKmsqSumGeom = vmsOpKmsqSum.merge(kmsqDF[['kmsqId', 'geom']], how='left', on='kmsqId')\n",
    "        #vmsOpKmsqSumGeom.to_csv(pathExport + kmsqKey + '_vms_'+pred+'.csv')\n",
    "        if pred == 'ObservedOp':\n",
    "            kmsqVMSobsdict[kmsqKey] = vmsOpKmsqSumGeom.rename(columns={'ObservedOp':'Operation'})\n",
    "            \n",
    "        if pred == 'PredictedOp': \n",
    "            kmsqVMSpreddict[kmsqKey] = vmsOpKmsqSumGeom.rename(columns={'PredictedOp':'Operation'})\n",
    "\n",
    "#export merged dataframe\n",
    "km = ['1km', '2km', '3km', '4km', '5km']\n",
    "for k in km:\n",
    "    len(kmsqVMSpreddict[k])\n",
    "    kmsqVMSpredObs = kmsqVMSpreddict[k].merge(kmsqVMSobsdict[k], how='outer', on=['kmsqId', 'geom', 'Operation']).fillna(0).to_csv('results/'+TEST_THE_MODEL+'/fishingEffortCheck/' + k + '_VMSobsVMSpred.csv')\n",
    "\n",
    "\n"
   ]
  }
 ],
 "metadata": {
  "kernelspec": {
   "display_name": "jupyter-env",
   "language": "python",
   "name": "python3"
  },
  "language_info": {
   "codemirror_mode": {
    "name": "ipython",
    "version": 3
   },
   "file_extension": ".py",
   "mimetype": "text/x-python",
   "name": "python",
   "nbconvert_exporter": "python",
   "pygments_lexer": "ipython3",
   "version": "3.11.7"
  }
 },
 "nbformat": 4,
 "nbformat_minor": 2
}
